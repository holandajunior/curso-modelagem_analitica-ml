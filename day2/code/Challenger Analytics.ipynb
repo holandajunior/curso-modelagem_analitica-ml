{
 "cells": [
  {
   "cell_type": "markdown",
   "metadata": {},
   "source": [
    "# Predição de Estresse no Challenger"
   ]
  },
  {
   "cell_type": "markdown",
   "metadata": {},
   "source": [
    "Paulo Cysne Rios Jr | Novembro 2017"
   ]
  },
  {
   "cell_type": "markdown",
   "metadata": {},
   "source": [
    "Predição do *número de problemas de componentes* nos lançamentos da aeronave Challenger."
   ]
  },
  {
   "cell_type": "markdown",
   "metadata": {},
   "source": [
    "Em 28 de janeiro de 1986, sete membros da tripulação do navio espacial Challenger dos Estados Unidos foram mortos quando um impulsionador de foguetes falhou, causando uma desintegração catastrófica. No final, os especialistas se concentraram na temperatura de lançamento como uma potencial causa. Os O-rings de borracha responsáveis pela selagem das juntas de foguetes nunca foram testadas abaixo de 40F (4C) e o clima no dia do lançamento era inusitadamente frio.\n",
    "\n",
    "Um modelo de regressão que demonstre uma ligação entre a temperatura e a falha no O-ring, poderia prever a chance de falha dada a temperatura esperada no momento de lançamento e ter sido muito útil. Tentaremos fazer um neste exercício.\n",
    "\n",
    "Para construir o modelo de regressão, os cientistas poderiam ter usado os dados sobre a temperatura de lançamento e o número de distúrbios (problemas) de componentes (distress_ct = distress count = contagem de distúrbios) de 23 lançamentos anteriores de lançamentos bem sucedidos.  Embora o foguete pode suportar um ou mais eventos de distúrbios (problemas) de componentes, cada distúrbio adicional aumenta a probabilidade de uma falha catastrófica!"
   ]
  },
  {
   "cell_type": "markdown",
   "metadata": {},
   "source": [
    "Baseado em dados apresentados em\n",
    " - Dalal SR, Fowlkes EB, Hoadley B. Risk analysis of the space shuttle: pre-Challenger prediction of failure. Journal of the American Statistical Association. 1989; 84:945-957"
   ]
  },
  {
   "cell_type": "markdown",
   "metadata": {},
   "source": [
    "## Exercício"
   ]
  },
  {
   "cell_type": "markdown",
   "metadata": {},
   "source": [
    "O objetivo é predizer *distress_ct*, o número de problemas/distúrbios de componentes do foguete no lançamento da aeronave Challenger:<p>\n",
    "- Prediza distress_ct dependendo somente da temperature (regressão linear simples). \n",
    "- Prediza distress_ct dependendo de todas as outras variáveis (regressão linear múltipla).\n",
    "- Use as classes LinearRegression e SGDRegressor para cada caso.\n",
    "- Calcule o MSE em cada caso usando o módulo metrics de SciKit-Learn.\n",
    "- Faça uma tabela ao final com os MSE encontradas para comparação dos resultados.\n",
    "- Os primeiros passos da modelagem estão abaixo."
   ]
  },
  {
   "cell_type": "code",
   "execution_count": 1,
   "metadata": {
    "collapsed": true
   },
   "outputs": [],
   "source": [
    "import numpy as np\n",
    "import pandas as pd"
   ]
  },
  {
   "cell_type": "code",
   "execution_count": 2,
   "metadata": {
    "collapsed": true
   },
   "outputs": [],
   "source": [
    "import matplotlib.pyplot as plt"
   ]
  },
  {
   "cell_type": "code",
   "execution_count": 4,
   "metadata": {
    "collapsed": true
   },
   "outputs": [],
   "source": [
    "challenger = pd.read_csv(\"data/challenger.csv\")"
   ]
  },
  {
   "cell_type": "code",
   "execution_count": 5,
   "metadata": {},
   "outputs": [
    {
     "data": {
      "text/plain": [
       "Index(['distress_ct', 'temperature', 'field_check_pressure', 'flight_num'], dtype='object')"
      ]
     },
     "execution_count": 5,
     "metadata": {},
     "output_type": "execute_result"
    }
   ],
   "source": [
    "challenger.columns"
   ]
  },
  {
   "cell_type": "code",
   "execution_count": 9,
   "metadata": {},
   "outputs": [
    {
     "name": "stdout",
     "output_type": "stream",
     "text": [
      "<class 'pandas.core.frame.DataFrame'>\n",
      "RangeIndex: 23 entries, 0 to 22\n",
      "Data columns (total 4 columns):\n",
      "distress_ct             23 non-null int64\n",
      "temperature             23 non-null int64\n",
      "field_check_pressure    23 non-null int64\n",
      "flight_num              23 non-null int64\n",
      "dtypes: int64(4)\n",
      "memory usage: 816.0 bytes\n"
     ]
    }
   ],
   "source": [
    "challenger.info()"
   ]
  },
  {
   "cell_type": "code",
   "execution_count": 10,
   "metadata": {},
   "outputs": [
    {
     "data": {
      "text/html": [
       "<div>\n",
       "<style>\n",
       "    .dataframe thead tr:only-child th {\n",
       "        text-align: right;\n",
       "    }\n",
       "\n",
       "    .dataframe thead th {\n",
       "        text-align: left;\n",
       "    }\n",
       "\n",
       "    .dataframe tbody tr th {\n",
       "        vertical-align: top;\n",
       "    }\n",
       "</style>\n",
       "<table border=\"1\" class=\"dataframe\">\n",
       "  <thead>\n",
       "    <tr style=\"text-align: right;\">\n",
       "      <th></th>\n",
       "      <th>distress_ct</th>\n",
       "      <th>temperature</th>\n",
       "      <th>field_check_pressure</th>\n",
       "      <th>flight_num</th>\n",
       "    </tr>\n",
       "  </thead>\n",
       "  <tbody>\n",
       "    <tr>\n",
       "      <th>0</th>\n",
       "      <td>0</td>\n",
       "      <td>66</td>\n",
       "      <td>50</td>\n",
       "      <td>1</td>\n",
       "    </tr>\n",
       "    <tr>\n",
       "      <th>1</th>\n",
       "      <td>1</td>\n",
       "      <td>70</td>\n",
       "      <td>50</td>\n",
       "      <td>2</td>\n",
       "    </tr>\n",
       "    <tr>\n",
       "      <th>2</th>\n",
       "      <td>0</td>\n",
       "      <td>69</td>\n",
       "      <td>50</td>\n",
       "      <td>3</td>\n",
       "    </tr>\n",
       "    <tr>\n",
       "      <th>3</th>\n",
       "      <td>0</td>\n",
       "      <td>68</td>\n",
       "      <td>50</td>\n",
       "      <td>4</td>\n",
       "    </tr>\n",
       "    <tr>\n",
       "      <th>4</th>\n",
       "      <td>0</td>\n",
       "      <td>67</td>\n",
       "      <td>50</td>\n",
       "      <td>5</td>\n",
       "    </tr>\n",
       "  </tbody>\n",
       "</table>\n",
       "</div>"
      ],
      "text/plain": [
       "   distress_ct  temperature  field_check_pressure  flight_num\n",
       "0            0           66                    50           1\n",
       "1            1           70                    50           2\n",
       "2            0           69                    50           3\n",
       "3            0           68                    50           4\n",
       "4            0           67                    50           5"
      ]
     },
     "execution_count": 10,
     "metadata": {},
     "output_type": "execute_result"
    }
   ],
   "source": [
    "challenger.head()"
   ]
  },
  {
   "cell_type": "code",
   "execution_count": 16,
   "metadata": {},
   "outputs": [
    {
     "data": {
      "text/plain": [
       "0    16\n",
       "1     5\n",
       "2     2\n",
       "Name: distress_ct, dtype: int64"
      ]
     },
     "execution_count": 16,
     "metadata": {},
     "output_type": "execute_result"
    }
   ],
   "source": [
    "challenger[\"distress_ct\"].value_counts()"
   ]
  }
 ],
 "metadata": {
  "kernelspec": {
   "display_name": "Python 3",
   "language": "python",
   "name": "python3"
  },
  "language_info": {
   "codemirror_mode": {
    "name": "ipython",
    "version": 3
   },
   "file_extension": ".py",
   "mimetype": "text/x-python",
   "name": "python",
   "nbconvert_exporter": "python",
   "pygments_lexer": "ipython3",
   "version": "3.6.3"
  }
 },
 "nbformat": 4,
 "nbformat_minor": 2
}
